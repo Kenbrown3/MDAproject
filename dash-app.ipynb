{
 "cells": [
  {
   "cell_type": "code",
   "execution_count": 1,
   "metadata": {},
   "outputs": [],
   "source": [
    "import pandas as pd\n",
    "import numpy as np\n",
    "from nltk.tokenize import word_tokenize\n",
    "from iso3166 import countries\n",
    "\n",
    "import plotly.express as px\n",
    "from jupyter_dash import JupyterDash\n",
    "import dash_core_components as dcc\n",
    "import dash_html_components as html\n",
    "from dash.dependencies import Input, Output\n",
    "import plotly.graph_objs as go\n",
    "import dash_bootstrap_components as dbc"
   ]
  },
  {
   "cell_type": "code",
   "execution_count": 8,
   "metadata": {},
   "outputs": [],
   "source": [
    "# Load Data\n",
    "data = pd.read_excel(\"data/transcripts.xlsx\", index_col=0)\n",
    "topics = pd.read_excel(\"data/topic_trend.xlsx\", index_col=0)\n",
    "topic_values = topics.Topic.unique()"
   ]
  },
  {
   "cell_type": "code",
   "execution_count": 3,
   "metadata": {},
   "outputs": [],
   "source": [
    "def country_names(x):\n",
    "    if x == [\"EU_\", \"YUG\"]:\n",
    "        return(\"European Union\", \"Yugoslavia\")\n",
    "    try:\n",
    "        return countries.get(x)[0]\n",
    "    except:\n",
    "        return 'error'"
   ]
  },
  {
   "cell_type": "code",
   "execution_count": 4,
   "metadata": {},
   "outputs": [],
   "source": [
    "data['country_names'] = data['country'].apply(country_names)"
   ]
  },
  {
   "cell_type": "code",
   "execution_count": 5,
   "metadata": {},
   "outputs": [
    {
     "data": {
      "text/plain": [
       ".DS     1\n",
       "AFG    48\n",
       "       ..\n",
       "ZMB    44\n",
       "ZWE    38\n",
       "Name: country, Length: 201, dtype: int64"
      ]
     },
     "execution_count": 5,
     "metadata": {},
     "output_type": "execute_result"
    }
   ],
   "source": [
    "pd.set_option('display.max_rows', 5)\n",
    "data['country'].value_counts().sort_index()"
   ]
  },
  {
   "cell_type": "code",
   "execution_count": 6,
   "metadata": {},
   "outputs": [],
   "source": [
    "year = np.array(data[\"year\"].unique())\n",
    "drop_values = np.append(data.country.unique(), 'ALL')"
   ]
  },
  {
   "cell_type": "code",
   "execution_count": 7,
   "metadata": {},
   "outputs": [],
   "source": [
    "# Build App\n",
    "app = JupyterDash(__name__, external_stylesheets=[dbc.themes.BOOTSTRAP])\n",
    "app.layout = html.Div([\n",
    "    \n",
    "    html.Div([\n",
    "        html.H1(\"Modern Data Analytics Project\"),\n",
    "        html.H2(\"Politicians and Climate Change\"),\n",
    "        html.Div(\"This Dashboard displays and summarizes some UN-speeches\"),\n",
    "        \n",
    "        html.Br(),\n",
    "        \n",
    "        dcc.Dropdown(\n",
    "            id='my_dropdown',\n",
    "            options=[\n",
    "                {'label': i, 'value': i} for i in drop_values\n",
    "            ],\n",
    "            value = 'ALB',\n",
    "            placeholder='Select a country',\n",
    "            style={'width': '40%'}\n",
    "        ),\n",
    "        \n",
    "        html.Br(),\n",
    "        \n",
    "        html.Div([\n",
    "        dcc.Input(id='term_select', type='text', debounce=False,\n",
    "                 value='climate', required=True),\n",
    "    ]),\n",
    "    \n",
    "    ]),\n",
    "\n",
    "    html.Div(id='text_out', children=[]),\n",
    "    \n",
    "    html.Div([\n",
    "        dcc.Graph(id='the_graph', figure={})\n",
    "    ]),\n",
    "\n",
    "])\n",
    "\n",
    "@app.callback(\n",
    "    [Output(component_id='text_out', component_property='children')],\n",
    "     Output(component_id='the_graph', component_property='figure'),     \n",
    "    Input(component_id='my_dropdown', component_property='value'),\n",
    "    Input(component_id='term_select', component_property='value')\n",
    ")\n",
    "\n",
    "def update_graph(my_dropdown, term_select):\n",
    "    \n",
    "    dff = data\n",
    "    \n",
    "    if my_dropdown == 'ALL':\n",
    "        data_filtered = dff\n",
    "        \n",
    "    else:    \n",
    "        data_filtered = dff.loc[dff['country'] == my_dropdown]\n",
    "    \n",
    "    \n",
    "    # loop-de-loop that does the counting\n",
    "    term = term_select.lower()\n",
    "    count = np.empty(0)\n",
    "    \n",
    "    for i in data_filtered.index:\n",
    "        count = np.append(count, word_tokenize(data_filtered[\"transcript\"][i].lower()).count(term))\n",
    "    \n",
    "    scatter=px.scatter(\n",
    "        x=year,\n",
    "        y=count)\n",
    "    \n",
    "    container = 'Number of speeches containing the term \"{}\" given by {}'.format(term_select, my_dropdown)\n",
    "    \n",
    "    return container, scatter\n",
    "    \n",
    "    \n",
    "\n",
    "# Run app and display result inline in the notebook\n",
    "app.run_server(mode='jupyterlab')"
   ]
  },
  {
   "cell_type": "code",
   "execution_count": null,
   "metadata": {},
   "outputs": [],
   "source": []
  },
  {
   "cell_type": "code",
   "execution_count": null,
   "metadata": {},
   "outputs": [],
   "source": []
  }
 ],
 "metadata": {
  "kernelspec": {
   "display_name": "Python 3",
   "language": "python",
   "name": "python3"
  },
  "language_info": {
   "codemirror_mode": {
    "name": "ipython",
    "version": 3
   },
   "file_extension": ".py",
   "mimetype": "text/x-python",
   "name": "python",
   "nbconvert_exporter": "python",
   "pygments_lexer": "ipython3",
   "version": "3.8.5"
  }
 },
 "nbformat": 4,
 "nbformat_minor": 4
}
