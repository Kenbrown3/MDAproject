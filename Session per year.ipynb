{
 "cells": [
  {
   "cell_type": "code",
   "execution_count": 1,
   "metadata": {},
   "outputs": [],
   "source": [
    "import numpy as np\n",
    "import pandas as pd\n",
    "import os"
   ]
  },
  {
   "cell_type": "code",
   "execution_count": 2,
   "metadata": {},
   "outputs": [],
   "source": [
    "session_dates = os.listdir('Project/Converted sessions')[2:]\n",
    "session_dir=[\"Project/Converted sessions/\"+session_dates[i] for i in range(0,49)]"
   ]
  },
  {
   "cell_type": "code",
   "execution_count": 3,
   "metadata": {},
   "outputs": [],
   "source": [
    "sessions_per_year=np.zeros(len(session_dir))"
   ]
  },
  {
   "cell_type": "code",
   "execution_count": 4,
   "metadata": {},
   "outputs": [],
   "source": [
    "for i in range(0,len(session_dir)):\n",
    "    sessions_per_year[i]=len(os.listdir(session_dir[i]))"
   ]
  },
  {
   "cell_type": "code",
   "execution_count": 5,
   "metadata": {},
   "outputs": [
    {
     "data": {
      "text/plain": [
       "array([ 70., 116., 125., 120., 129., 126., 134., 140., 141., 144., 150.,\n",
       "       145., 148., 149., 150., 137., 149., 152., 154., 153., 156., 163.,\n",
       "       168., 175., 178., 172., 181., 176., 181., 181., 178., 189., 188.,\n",
       "       189., 192., 185., 193., 191., 192., 193., 189., 194., 195., 194.,\n",
       "       194., 193., 194., 196., 196.])"
      ]
     },
     "execution_count": 5,
     "metadata": {},
     "output_type": "execute_result"
    }
   ],
   "source": [
    "sessions_per_year"
   ]
  }
 ],
 "metadata": {
  "kernelspec": {
   "display_name": "Python 3",
   "language": "python",
   "name": "python3"
  },
  "language_info": {
   "codemirror_mode": {
    "name": "ipython",
    "version": 3
   },
   "file_extension": ".py",
   "mimetype": "text/x-python",
   "name": "python",
   "nbconvert_exporter": "python",
   "pygments_lexer": "ipython3",
   "version": "3.7.6"
  }
 },
 "nbformat": 4,
 "nbformat_minor": 4
}
