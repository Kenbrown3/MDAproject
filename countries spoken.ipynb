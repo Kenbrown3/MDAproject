{
 "cells": [
  {
   "cell_type": "code",
   "execution_count": 1,
   "metadata": {},
   "outputs": [],
   "source": [
    "import numpy as np\n",
    "import pandas as pd\n",
    "import os"
   ]
  },
  {
   "cell_type": "code",
   "execution_count": 2,
   "metadata": {},
   "outputs": [
    {
     "data": {
      "text/plain": [
       "array([1970., 1971., 1972., 1973., 1974., 1975., 1976., 1977., 1978.,\n",
       "       1979., 1980., 1981., 1982., 1983., 1984., 1985., 1986., 1987.,\n",
       "       1988., 1989., 1990., 1991., 1992., 1993., 1994., 1995., 1996.,\n",
       "       1997., 1998., 1999., 2000., 2001., 2002., 2003., 2004., 2005.,\n",
       "       2006., 2007., 2008., 2009., 2010., 2011., 2012., 2013., 2014.,\n",
       "       2015., 2016., 2017., 2018.])"
      ]
     },
     "execution_count": 2,
     "metadata": {},
     "output_type": "execute_result"
    }
   ],
   "source": [
    "%run \"Get Year.ipynb\"\n",
    "session_years"
   ]
  },
  {
   "cell_type": "code",
   "execution_count": 3,
   "metadata": {},
   "outputs": [
    {
     "data": {
      "text/plain": [
       "array([ 70., 116., 125., 120., 129., 126., 134., 140., 141., 144., 150.,\n",
       "       145., 148., 149., 150., 137., 149., 152., 154., 153., 156., 163.,\n",
       "       168., 175., 178., 172., 181., 176., 181., 181., 178., 189., 188.,\n",
       "       189., 192., 185., 193., 191., 192., 193., 189., 194., 195., 194.,\n",
       "       194., 193., 194., 196., 196.])"
      ]
     },
     "execution_count": 3,
     "metadata": {},
     "output_type": "execute_result"
    }
   ],
   "source": [
    "%run \"Session per year.ipynb\"\n",
    "sessions_per_year"
   ]
  },
  {
   "cell_type": "code",
   "execution_count": 4,
   "metadata": {},
   "outputs": [],
   "source": [
    "country=np.zeros(0).astype(str)\n",
    "for i in range(0,len(session_years)):\n",
    "    for j in range(0,int(sessions_per_year[i])):\n",
    "        country=np.append(country,(os.listdir(session_dir[i]))[j][0:3])"
   ]
  }
 ],
 "metadata": {
  "kernelspec": {
   "display_name": "Python 3",
   "language": "python",
   "name": "python3"
  },
  "language_info": {
   "codemirror_mode": {
    "name": "ipython",
    "version": 3
   },
   "file_extension": ".py",
   "mimetype": "text/x-python",
   "name": "python",
   "nbconvert_exporter": "python",
   "pygments_lexer": "ipython3",
   "version": "3.7.6"
  }
 },
 "nbformat": 4,
 "nbformat_minor": 4
}
